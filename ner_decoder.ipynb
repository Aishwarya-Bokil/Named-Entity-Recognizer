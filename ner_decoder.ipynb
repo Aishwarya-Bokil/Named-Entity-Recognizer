{
  "nbformat": 4,
  "nbformat_minor": 0,
  "metadata": {
    "colab": {
      "name": "ner-decoder.ipynb",
      "provenance": [],
      "collapsed_sections": []
    },
    "kernelspec": {
      "name": "python3",
      "display_name": "Python 3"
    },
    "accelerator": "GPU"
  },
  "cells": [
    {
      "cell_type": "markdown",
      "metadata": {
        "id": "IsY0LJOIT_cG",
        "colab_type": "text"
      },
      "source": [
        "# Implementing a Viterbi Decoder and Evaluation for Sequence Labeling\n",
        "\n",
        "In this assignment, you will build a Viterbi decoder for an LSTM named-entity recognition model. As we mentioned in class, recurrent and bidirectional recurrent neural networks, of which LSTMs are the most common examples, can be used to perform sequence labeling. Although these models encode information from the surrounding words in order to make predictions, there are no \"hard\" constraints on what tags can appear where.\n",
        "\n",
        "There hard constraints are particularly important for tasks that label spans of more than one token. The most common example of a span-labeling task is named-entity recognition (NER). As described in Eisenstein, Jurafksy & Martin, and other texts, the goal of NER is to label spans of one or more words as _mentions_ of an _entity_, such as a person, location, organization, etc.\n",
        "\n",
        "The most common approach to NER is to reduce it to a sequence-labeling task, where each token in the input is labeled either with an `O`, if it is \"outside\" any named-entity span, or with `B-TYPE`, if it is the first token in an entity of type `TYPE`, or with `I-TYPE`, if it is the second or later token in an entity of type `TYPE`. Distinguishing between the first and later tokens of an entity allow us to identify distinct entity spans even when they are adjacent.\n",
        "\n",
        "Common values of `TYPE` include `PER` for person, `LOC` for location, `DATE` for date, and so on. In the dataset we load below, there are 17 distinct types.\n",
        "\n",
        "The span-labeling scheme just described implies that the labels on tokens must obey certain constraints: the tag `I-PER` must follow either `B-PER` or another `I-PER`. It cannot follow `O`, `B-LOC`, or `I-LOC`, i.e., a tag for a different entity type. By themselves, LSTMs or bidirectional LSTMs cannot directly enforce these constraints. This is one reason why conditional random fields (CRFs), which _can_ enforce these constraints, are often layered on top of these recurrent models.\n",
        "\n",
        "In this assignment, you will implement the simplest possible CRF: a CRF so simple that it does not require any training. Rather, it will assign weight 1 to any sequence of tags that obeys the constraints and weight 0 to any sequence of tags that violates them. The inputs to the CRF, which are analogous to the emission probabilities in an HMM, will come from an LSTM.\n",
        "\n",
        "But first, in order to test your decoder, you will also implement some functions to evaluate the output of an NER system according to two metrics:\n",
        "1. You will count the number of _violations_ of the NER label constraints, i.e., how many times `I-TYPE` follows `O` or a tag of a different type or occurs at the beginning of a sentence. This number will be greater than 0 in the raw LSTM output, but should be 0 for your CRF output.\n",
        "1. You will compute the _span-level_ precision, recall, and F1 of NER output. Although the baseline LSTM was trained to achieve high _token-level_ accuracy, this metric can be misleadingly high, since so many tokens are correctly labeled `O`. In other words, what proportion of spans predicted by the model line up exactly with spans in the gold standard, and what proportion of spans in the gold standard were predicted by the model? For more, see the original task definition: https://www.aclweb.org/anthology/W03-0419/.\n",
        "\n",
        "We start with loading some code and data and the describe your tasks in more detail."
      ]
    },
    {
      "cell_type": "markdown",
      "metadata": {
        "id": "Dhnn49QEU_Ik",
        "colab_type": "text"
      },
      "source": [
        "## Set Up Dependencies and Definitions"
      ]
    },
    {
      "cell_type": "code",
      "metadata": {
        "id": "QJINX1MwOLBT",
        "colab_type": "code",
        "outputId": "530e6aec-aa13-4b86-ddd5-e27a9a0ad920",
        "colab": {
          "base_uri": "https://localhost:8080/",
          "height": 1000
        }
      },
      "source": [
        "!pip install --upgrade spacy allennlp\n",
        "import spacy\n",
        "print(spacy.__version__)\n",
        "!pip install seqeval\n",
        "import numpy as np\n",
        "from keras.callbacks import Callback\n",
        "from seqeval.metrics import f1_score, classification_report\n",
        "from seqeval.metrics import accuracy_score\n",
        "from seqeval.metrics import classification_report\n",
        "from seqeval.metrics import f1_score\n",
        "from seqeval.metrics import recall_score\n",
        "from seqeval.metrics import precision_score"
      ],
      "execution_count": 1,
      "outputs": [
        {
          "output_type": "stream",
          "text": [
            "Requirement already up-to-date: spacy in /usr/local/lib/python3.6/dist-packages (2.2.4)\n",
            "Requirement already up-to-date: allennlp in /usr/local/lib/python3.6/dist-packages (0.9.0)\n",
            "Requirement already satisfied, skipping upgrade: blis<0.5.0,>=0.4.0 in /usr/local/lib/python3.6/dist-packages (from spacy) (0.4.1)\n",
            "Requirement already satisfied, skipping upgrade: thinc==7.4.0 in /usr/local/lib/python3.6/dist-packages (from spacy) (7.4.0)\n",
            "Requirement already satisfied, skipping upgrade: cymem<2.1.0,>=2.0.2 in /usr/local/lib/python3.6/dist-packages (from spacy) (2.0.3)\n",
            "Requirement already satisfied, skipping upgrade: numpy>=1.15.0 in /usr/local/lib/python3.6/dist-packages (from spacy) (1.18.2)\n",
            "Requirement already satisfied, skipping upgrade: plac<1.2.0,>=0.9.6 in /usr/local/lib/python3.6/dist-packages (from spacy) (1.1.3)\n",
            "Requirement already satisfied, skipping upgrade: catalogue<1.1.0,>=0.0.7 in /usr/local/lib/python3.6/dist-packages (from spacy) (1.0.0)\n",
            "Requirement already satisfied, skipping upgrade: wasabi<1.1.0,>=0.4.0 in /usr/local/lib/python3.6/dist-packages (from spacy) (0.6.0)\n",
            "Requirement already satisfied, skipping upgrade: tqdm<5.0.0,>=4.38.0 in /usr/local/lib/python3.6/dist-packages (from spacy) (4.38.0)\n",
            "Requirement already satisfied, skipping upgrade: setuptools in /usr/local/lib/python3.6/dist-packages (from spacy) (46.0.0)\n",
            "Requirement already satisfied, skipping upgrade: srsly<1.1.0,>=1.0.2 in /usr/local/lib/python3.6/dist-packages (from spacy) (1.0.2)\n",
            "Requirement already satisfied, skipping upgrade: preshed<3.1.0,>=3.0.2 in /usr/local/lib/python3.6/dist-packages (from spacy) (3.0.2)\n",
            "Requirement already satisfied, skipping upgrade: requests<3.0.0,>=2.13.0 in /usr/local/lib/python3.6/dist-packages (from spacy) (2.21.0)\n",
            "Requirement already satisfied, skipping upgrade: murmurhash<1.1.0,>=0.28.0 in /usr/local/lib/python3.6/dist-packages (from spacy) (1.0.2)\n",
            "Requirement already satisfied, skipping upgrade: overrides in /usr/local/lib/python3.6/dist-packages (from allennlp) (2.8.0)\n",
            "Requirement already satisfied, skipping upgrade: pytz>=2017.3 in /usr/local/lib/python3.6/dist-packages (from allennlp) (2018.9)\n",
            "Requirement already satisfied, skipping upgrade: conllu==1.3.1 in /usr/local/lib/python3.6/dist-packages (from allennlp) (1.3.1)\n",
            "Requirement already satisfied, skipping upgrade: unidecode in /usr/local/lib/python3.6/dist-packages (from allennlp) (1.1.1)\n",
            "Requirement already satisfied, skipping upgrade: responses>=0.7 in /usr/local/lib/python3.6/dist-packages (from allennlp) (0.10.12)\n",
            "Requirement already satisfied, skipping upgrade: editdistance in /usr/local/lib/python3.6/dist-packages (from allennlp) (0.5.3)\n",
            "Requirement already satisfied, skipping upgrade: jsonnet>=0.10.0; sys_platform != \"win32\" in /usr/local/lib/python3.6/dist-packages (from allennlp) (0.15.0)\n",
            "Requirement already satisfied, skipping upgrade: parsimonious>=0.8.0 in /usr/local/lib/python3.6/dist-packages (from allennlp) (0.8.1)\n",
            "Requirement already satisfied, skipping upgrade: flask>=1.0.2 in /usr/local/lib/python3.6/dist-packages (from allennlp) (1.1.1)\n",
            "Requirement already satisfied, skipping upgrade: h5py in /usr/local/lib/python3.6/dist-packages (from allennlp) (2.10.0)\n",
            "Requirement already satisfied, skipping upgrade: gevent>=1.3.6 in /usr/local/lib/python3.6/dist-packages (from allennlp) (1.4.0)\n",
            "Requirement already satisfied, skipping upgrade: pytorch-pretrained-bert>=0.6.0 in /usr/local/lib/python3.6/dist-packages (from allennlp) (0.6.2)\n",
            "Requirement already satisfied, skipping upgrade: torch>=1.2.0 in /usr/local/lib/python3.6/dist-packages (from allennlp) (1.4.0)\n",
            "Requirement already satisfied, skipping upgrade: pytest in /usr/local/lib/python3.6/dist-packages (from allennlp) (3.6.4)\n",
            "Requirement already satisfied, skipping upgrade: flaky in /usr/local/lib/python3.6/dist-packages (from allennlp) (3.6.1)\n",
            "Requirement already satisfied, skipping upgrade: scipy in /usr/local/lib/python3.6/dist-packages (from allennlp) (1.4.1)\n",
            "Requirement already satisfied, skipping upgrade: ftfy in /usr/local/lib/python3.6/dist-packages (from allennlp) (5.7)\n",
            "Requirement already satisfied, skipping upgrade: tensorboardX>=1.2 in /usr/local/lib/python3.6/dist-packages (from allennlp) (2.0)\n",
            "Requirement already satisfied, skipping upgrade: scikit-learn in /usr/local/lib/python3.6/dist-packages (from allennlp) (0.22.2.post1)\n",
            "Requirement already satisfied, skipping upgrade: word2number>=1.1 in /usr/local/lib/python3.6/dist-packages (from allennlp) (1.1)\n",
            "Requirement already satisfied, skipping upgrade: boto3 in /usr/local/lib/python3.6/dist-packages (from allennlp) (1.12.33)\n",
            "Requirement already satisfied, skipping upgrade: flask-cors>=3.0.7 in /usr/local/lib/python3.6/dist-packages (from allennlp) (3.0.8)\n",
            "Requirement already satisfied, skipping upgrade: numpydoc>=0.8.0 in /usr/local/lib/python3.6/dist-packages (from allennlp) (0.9.2)\n",
            "Requirement already satisfied, skipping upgrade: matplotlib>=2.2.3 in /usr/local/lib/python3.6/dist-packages (from allennlp) (3.2.1)\n",
            "Requirement already satisfied, skipping upgrade: pytorch-transformers==1.1.0 in /usr/local/lib/python3.6/dist-packages (from allennlp) (1.1.0)\n",
            "Requirement already satisfied, skipping upgrade: nltk in /usr/local/lib/python3.6/dist-packages (from allennlp) (3.2.5)\n",
            "Requirement already satisfied, skipping upgrade: jsonpickle in /usr/local/lib/python3.6/dist-packages (from allennlp) (1.3)\n",
            "Requirement already satisfied, skipping upgrade: sqlparse>=0.2.4 in /usr/local/lib/python3.6/dist-packages (from allennlp) (0.3.1)\n",
            "Requirement already satisfied, skipping upgrade: importlib-metadata>=0.20; python_version < \"3.8\" in /usr/local/lib/python3.6/dist-packages (from catalogue<1.1.0,>=0.0.7->spacy) (1.6.0)\n",
            "Requirement already satisfied, skipping upgrade: idna<2.9,>=2.5 in /usr/local/lib/python3.6/dist-packages (from requests<3.0.0,>=2.13.0->spacy) (2.8)\n",
            "Requirement already satisfied, skipping upgrade: certifi>=2017.4.17 in /usr/local/lib/python3.6/dist-packages (from requests<3.0.0,>=2.13.0->spacy) (2019.11.28)\n",
            "Requirement already satisfied, skipping upgrade: urllib3<1.25,>=1.21.1 in /usr/local/lib/python3.6/dist-packages (from requests<3.0.0,>=2.13.0->spacy) (1.24.3)\n",
            "Requirement already satisfied, skipping upgrade: chardet<3.1.0,>=3.0.2 in /usr/local/lib/python3.6/dist-packages (from requests<3.0.0,>=2.13.0->spacy) (3.0.4)\n",
            "Requirement already satisfied, skipping upgrade: six in /usr/local/lib/python3.6/dist-packages (from responses>=0.7->allennlp) (1.12.0)\n",
            "Requirement already satisfied, skipping upgrade: itsdangerous>=0.24 in /usr/local/lib/python3.6/dist-packages (from flask>=1.0.2->allennlp) (1.1.0)\n",
            "Requirement already satisfied, skipping upgrade: click>=5.1 in /usr/local/lib/python3.6/dist-packages (from flask>=1.0.2->allennlp) (7.1.1)\n",
            "Requirement already satisfied, skipping upgrade: Jinja2>=2.10.1 in /usr/local/lib/python3.6/dist-packages (from flask>=1.0.2->allennlp) (2.11.1)\n",
            "Requirement already satisfied, skipping upgrade: Werkzeug>=0.15 in /usr/local/lib/python3.6/dist-packages (from flask>=1.0.2->allennlp) (1.0.1)\n",
            "Requirement already satisfied, skipping upgrade: greenlet>=0.4.14; platform_python_implementation == \"CPython\" in /usr/local/lib/python3.6/dist-packages (from gevent>=1.3.6->allennlp) (0.4.15)\n",
            "Requirement already satisfied, skipping upgrade: regex in /usr/local/lib/python3.6/dist-packages (from pytorch-pretrained-bert>=0.6.0->allennlp) (2019.12.20)\n",
            "Requirement already satisfied, skipping upgrade: more-itertools>=4.0.0 in /usr/local/lib/python3.6/dist-packages (from pytest->allennlp) (8.2.0)\n",
            "Requirement already satisfied, skipping upgrade: pluggy<0.8,>=0.5 in /usr/local/lib/python3.6/dist-packages (from pytest->allennlp) (0.7.1)\n",
            "Requirement already satisfied, skipping upgrade: atomicwrites>=1.0 in /usr/local/lib/python3.6/dist-packages (from pytest->allennlp) (1.3.0)\n",
            "Requirement already satisfied, skipping upgrade: attrs>=17.4.0 in /usr/local/lib/python3.6/dist-packages (from pytest->allennlp) (19.3.0)\n",
            "Requirement already satisfied, skipping upgrade: py>=1.5.0 in /usr/local/lib/python3.6/dist-packages (from pytest->allennlp) (1.8.1)\n",
            "Requirement already satisfied, skipping upgrade: wcwidth in /usr/local/lib/python3.6/dist-packages (from ftfy->allennlp) (0.1.9)\n",
            "Requirement already satisfied, skipping upgrade: protobuf>=3.8.0 in /usr/local/lib/python3.6/dist-packages (from tensorboardX>=1.2->allennlp) (3.10.0)\n",
            "Requirement already satisfied, skipping upgrade: joblib>=0.11 in /usr/local/lib/python3.6/dist-packages (from scikit-learn->allennlp) (0.14.1)\n",
            "Requirement already satisfied, skipping upgrade: s3transfer<0.4.0,>=0.3.0 in /usr/local/lib/python3.6/dist-packages (from boto3->allennlp) (0.3.3)\n",
            "Requirement already satisfied, skipping upgrade: botocore<1.16.0,>=1.15.33 in /usr/local/lib/python3.6/dist-packages (from boto3->allennlp) (1.15.33)\n",
            "Requirement already satisfied, skipping upgrade: jmespath<1.0.0,>=0.7.1 in /usr/local/lib/python3.6/dist-packages (from boto3->allennlp) (0.9.5)\n",
            "Requirement already satisfied, skipping upgrade: sphinx>=1.6.5 in /usr/local/lib/python3.6/dist-packages (from numpydoc>=0.8.0->allennlp) (1.8.5)\n",
            "Requirement already satisfied, skipping upgrade: cycler>=0.10 in /usr/local/lib/python3.6/dist-packages (from matplotlib>=2.2.3->allennlp) (0.10.0)\n",
            "Requirement already satisfied, skipping upgrade: pyparsing!=2.0.4,!=2.1.2,!=2.1.6,>=2.0.1 in /usr/local/lib/python3.6/dist-packages (from matplotlib>=2.2.3->allennlp) (2.4.6)\n",
            "Requirement already satisfied, skipping upgrade: kiwisolver>=1.0.1 in /usr/local/lib/python3.6/dist-packages (from matplotlib>=2.2.3->allennlp) (1.1.0)\n",
            "Requirement already satisfied, skipping upgrade: python-dateutil>=2.1 in /usr/local/lib/python3.6/dist-packages (from matplotlib>=2.2.3->allennlp) (2.8.1)\n",
            "Requirement already satisfied, skipping upgrade: sentencepiece in /usr/local/lib/python3.6/dist-packages (from pytorch-transformers==1.1.0->allennlp) (0.1.85)\n",
            "Requirement already satisfied, skipping upgrade: zipp>=0.5 in /usr/local/lib/python3.6/dist-packages (from importlib-metadata>=0.20; python_version < \"3.8\"->catalogue<1.1.0,>=0.0.7->spacy) (3.1.0)\n",
            "Requirement already satisfied, skipping upgrade: MarkupSafe>=0.23 in /usr/local/lib/python3.6/dist-packages (from Jinja2>=2.10.1->flask>=1.0.2->allennlp) (1.1.1)\n",
            "Requirement already satisfied, skipping upgrade: docutils<0.16,>=0.10 in /usr/local/lib/python3.6/dist-packages (from botocore<1.16.0,>=1.15.33->boto3->allennlp) (0.15.2)\n",
            "Requirement already satisfied, skipping upgrade: Pygments>=2.0 in /usr/local/lib/python3.6/dist-packages (from sphinx>=1.6.5->numpydoc>=0.8.0->allennlp) (2.1.3)\n",
            "Requirement already satisfied, skipping upgrade: alabaster<0.8,>=0.7 in /usr/local/lib/python3.6/dist-packages (from sphinx>=1.6.5->numpydoc>=0.8.0->allennlp) (0.7.12)\n",
            "Requirement already satisfied, skipping upgrade: babel!=2.0,>=1.3 in /usr/local/lib/python3.6/dist-packages (from sphinx>=1.6.5->numpydoc>=0.8.0->allennlp) (2.8.0)\n",
            "Requirement already satisfied, skipping upgrade: packaging in /usr/local/lib/python3.6/dist-packages (from sphinx>=1.6.5->numpydoc>=0.8.0->allennlp) (20.3)\n",
            "Requirement already satisfied, skipping upgrade: snowballstemmer>=1.1 in /usr/local/lib/python3.6/dist-packages (from sphinx>=1.6.5->numpydoc>=0.8.0->allennlp) (2.0.0)\n",
            "Requirement already satisfied, skipping upgrade: sphinxcontrib-websupport in /usr/local/lib/python3.6/dist-packages (from sphinx>=1.6.5->numpydoc>=0.8.0->allennlp) (1.2.1)\n",
            "Requirement already satisfied, skipping upgrade: imagesize in /usr/local/lib/python3.6/dist-packages (from sphinx>=1.6.5->numpydoc>=0.8.0->allennlp) (1.2.0)\n",
            "2.2.4\n",
            "Requirement already satisfied: seqeval in /usr/local/lib/python3.6/dist-packages (0.0.12)\n",
            "Requirement already satisfied: Keras>=2.2.4 in /usr/local/lib/python3.6/dist-packages (from seqeval) (2.2.5)\n",
            "Requirement already satisfied: numpy>=1.14.0 in /usr/local/lib/python3.6/dist-packages (from seqeval) (1.18.2)\n",
            "Requirement already satisfied: h5py in /usr/local/lib/python3.6/dist-packages (from Keras>=2.2.4->seqeval) (2.10.0)\n",
            "Requirement already satisfied: pyyaml in /usr/local/lib/python3.6/dist-packages (from Keras>=2.2.4->seqeval) (3.13)\n",
            "Requirement already satisfied: keras-preprocessing>=1.1.0 in /usr/local/lib/python3.6/dist-packages (from Keras>=2.2.4->seqeval) (1.1.0)\n",
            "Requirement already satisfied: scipy>=0.14 in /usr/local/lib/python3.6/dist-packages (from Keras>=2.2.4->seqeval) (1.4.1)\n",
            "Requirement already satisfied: six>=1.9.0 in /usr/local/lib/python3.6/dist-packages (from Keras>=2.2.4->seqeval) (1.12.0)\n",
            "Requirement already satisfied: keras-applications>=1.0.8 in /usr/local/lib/python3.6/dist-packages (from Keras>=2.2.4->seqeval) (1.0.8)\n"
          ],
          "name": "stdout"
        },
        {
          "output_type": "stream",
          "text": [
            "Using TensorFlow backend.\n"
          ],
          "name": "stderr"
        }
      ]
    },
    {
      "cell_type": "code",
      "metadata": {
        "id": "f4zJfaIlJ2bv",
        "colab_type": "code",
        "outputId": "c6428d3c-1983-47cf-b5bc-fc77ed995ac0",
        "colab": {
          "base_uri": "https://localhost:8080/",
          "height": 34
        }
      },
      "source": [
        "from typing import Iterator, List, Dict\n",
        "import torch\n",
        "import torch.optim as optim\n",
        "import numpy as np\n",
        "from allennlp.data import Instance\n",
        "from allennlp.data.fields import TextField, SequenceLabelField\n",
        "from allennlp.data.dataset_readers import DatasetReader\n",
        "from allennlp.common.file_utils import cached_path\n",
        "from allennlp.data.token_indexers import TokenIndexer, SingleIdTokenIndexer\n",
        "from allennlp.data.tokenizers import Token\n",
        "from allennlp.data.vocabulary import Vocabulary\n",
        "from allennlp.models import Model\n",
        "from allennlp.modules.text_field_embedders import TextFieldEmbedder, BasicTextFieldEmbedder\n",
        "from allennlp.modules.token_embedders import Embedding\n",
        "from allennlp.modules.seq2seq_encoders import Seq2SeqEncoder, PytorchSeq2SeqWrapper\n",
        "from allennlp.nn.util import get_text_field_mask, sequence_cross_entropy_with_logits\n",
        "from allennlp.training.metrics import CategoricalAccuracy\n",
        "from allennlp.data.iterators import BucketIterator\n",
        "from allennlp.training.trainer import Trainer\n",
        "from allennlp.predictors import SentenceTaggerPredictor\n",
        "from allennlp.data.dataset_readers import conll2003\n",
        "\n",
        "torch.manual_seed(1)"
      ],
      "execution_count": 2,
      "outputs": [
        {
          "output_type": "execute_result",
          "data": {
            "text/plain": [
              "<torch._C.Generator at 0x7ff157b69650>"
            ]
          },
          "metadata": {
            "tags": []
          },
          "execution_count": 2
        }
      ]
    },
    {
      "cell_type": "code",
      "metadata": {
        "id": "Qo16Ko0Gchxk",
        "colab_type": "code",
        "colab": {}
      },
      "source": [
        "class LstmTagger(Model):\n",
        "  def __init__(self,\n",
        "               word_embeddings: TextFieldEmbedder,\n",
        "               encoder: Seq2SeqEncoder,\n",
        "               vocab: Vocabulary) -> None:\n",
        "    super().__init__(vocab)\n",
        "    self.word_embeddings = word_embeddings\n",
        "    self.encoder = encoder\n",
        "    self.hidden2tag = torch.nn.Linear(in_features=encoder.get_output_dim(),\n",
        "                                      out_features=vocab.get_vocab_size('labels'))\n",
        "    self.accuracy = CategoricalAccuracy()\n",
        "\n",
        "  def forward(self,\n",
        "              tokens: Dict[str, torch.Tensor],\n",
        "              metadata,\n",
        "              tags: torch.Tensor = None) -> Dict[str, torch.Tensor]:\n",
        "    mask = get_text_field_mask(tokens)\n",
        "    embeddings = self.word_embeddings(tokens)\n",
        "    encoder_out = self.encoder(embeddings, mask)\n",
        "    tag_logits = self.hidden2tag(encoder_out)\n",
        "    output = {\"tag_logits\": tag_logits}\n",
        "    if tags is not None:\n",
        "      self.accuracy(tag_logits, tags, mask)\n",
        "      output[\"loss\"] = sequence_cross_entropy_with_logits(tag_logits, tags, mask)\n",
        "\n",
        "    return output\n",
        "\n",
        "  def get_metrics(self, reset: bool = False) -> Dict[str, float]:\n",
        "    return {\"accuracy\": self.accuracy.get_metric(reset)}"
      ],
      "execution_count": 0,
      "outputs": []
    },
    {
      "cell_type": "markdown",
      "metadata": {
        "id": "mVdKvPftVVLt",
        "colab_type": "text"
      },
      "source": [
        "## Import Data"
      ]
    },
    {
      "cell_type": "code",
      "metadata": {
        "id": "5sOVVZslKm3N",
        "colab_type": "code",
        "outputId": "5346a03f-0cce-4752-f1aa-167fe9d381d1",
        "colab": {
          "base_uri": "https://localhost:8080/",
          "height": 68
        }
      },
      "source": [
        "reader = conll2003.Conll2003DatasetReader()\n",
        "train_dataset = reader.read(cached_path('http://www.ccs.neu.edu/home/dasmith/onto.train.ner.sample'))\n",
        "validation_dataset = reader.read(cached_path('http://www.ccs.neu.edu/home/dasmith/onto.development.ner.sample'))\n",
        "\n",
        "vocab = Vocabulary.from_instances(train_dataset + validation_dataset)"
      ],
      "execution_count": 4,
      "outputs": [
        {
          "output_type": "stream",
          "text": [
            "562it [00:00, 21197.26it/s]\n",
            "23it [00:00, 14526.27it/s]\n",
            "100%|██████████| 585/585 [00:00<00:00, 71927.65it/s]\n"
          ],
          "name": "stderr"
        }
      ]
    },
    {
      "cell_type": "markdown",
      "metadata": {
        "id": "wpg2Udr-Vnwm",
        "colab_type": "text"
      },
      "source": [
        "## Define and Train Model"
      ]
    },
    {
      "cell_type": "code",
      "metadata": {
        "id": "8kDQQBMywdKx",
        "colab_type": "code",
        "outputId": "09d86f95-9abb-4f24-df1a-0985a15749c4",
        "colab": {
          "base_uri": "https://localhost:8080/",
          "height": 1000
        }
      },
      "source": [
        "EMBEDDING_DIM = 6\n",
        "HIDDEN_DIM = 6\n",
        "token_embedding = Embedding(num_embeddings=vocab.get_vocab_size('tokens'),\n",
        "                            embedding_dim=EMBEDDING_DIM)\n",
        "word_embeddings = BasicTextFieldEmbedder({\"tokens\": token_embedding})\n",
        "lstm = PytorchSeq2SeqWrapper(torch.nn.LSTM(EMBEDDING_DIM, HIDDEN_DIM, bidirectional=False, batch_first=True))\n",
        "model = LstmTagger(word_embeddings, lstm, vocab)\n",
        "if torch.cuda.is_available():\n",
        "    cuda_device = 0\n",
        "    model = model.cuda(cuda_device)\n",
        "else:\n",
        "    cuda_device = -1\n",
        "# optimizer = optim.AdamW(model.parameters(), lr=1e-4, eps=1e-8)\n",
        "optimizer = optim.SGD(model.parameters(), lr=0.1)\n",
        "iterator = BucketIterator(batch_size=2, sorting_keys=[(\"tokens\", \"num_tokens\")])\n",
        "iterator.index_with(vocab)\n",
        "trainer = Trainer(model=model,\n",
        "                  optimizer=optimizer,\n",
        "                  iterator=iterator,\n",
        "                  train_dataset=train_dataset,\n",
        "                  validation_dataset=validation_dataset,\n",
        "                  patience=10,\n",
        "                  num_epochs=100,\n",
        "                  cuda_device=cuda_device)\n",
        "trainer.train()"
      ],
      "execution_count": 5,
      "outputs": [
        {
          "output_type": "stream",
          "text": [
            "accuracy: 0.8442, loss: 0.9156 ||: 100%|██████████| 281/281 [00:01<00:00, 246.55it/s]\n",
            "accuracy: 0.7878, loss: 1.1969 ||: 100%|██████████| 12/12 [00:00<00:00, 410.83it/s]\n",
            "accuracy: 0.8442, loss: 0.7295 ||: 100%|██████████| 281/281 [00:01<00:00, 249.57it/s]\n",
            "accuracy: 0.7878, loss: 1.1977 ||: 100%|██████████| 12/12 [00:00<00:00, 474.81it/s]\n",
            "accuracy: 0.8442, loss: 0.7157 ||: 100%|██████████| 281/281 [00:01<00:00, 251.27it/s]\n",
            "accuracy: 0.7878, loss: 1.1781 ||: 100%|██████████| 12/12 [00:00<00:00, 424.98it/s]\n",
            "accuracy: 0.8442, loss: 0.7068 ||: 100%|██████████| 281/281 [00:01<00:00, 251.58it/s]\n",
            "accuracy: 0.7878, loss: 1.1627 ||: 100%|██████████| 12/12 [00:00<00:00, 476.29it/s]\n",
            "accuracy: 0.8442, loss: 0.6987 ||: 100%|██████████| 281/281 [00:01<00:00, 248.27it/s]\n",
            "accuracy: 0.7878, loss: 1.1742 ||: 100%|██████████| 12/12 [00:00<00:00, 461.69it/s]\n",
            "accuracy: 0.8442, loss: 0.6910 ||: 100%|██████████| 281/281 [00:01<00:00, 248.72it/s]\n",
            "accuracy: 0.7878, loss: 1.1608 ||: 100%|██████████| 12/12 [00:00<00:00, 450.67it/s]\n",
            "accuracy: 0.8442, loss: 0.6819 ||: 100%|██████████| 281/281 [00:01<00:00, 250.49it/s]\n",
            "accuracy: 0.7878, loss: 1.1401 ||: 100%|██████████| 12/12 [00:00<00:00, 443.62it/s]\n",
            "accuracy: 0.8442, loss: 0.6702 ||: 100%|██████████| 281/281 [00:01<00:00, 249.52it/s]\n",
            "accuracy: 0.7878, loss: 1.1427 ||: 100%|██████████| 12/12 [00:00<00:00, 477.82it/s]\n",
            "accuracy: 0.8442, loss: 0.6563 ||: 100%|██████████| 281/281 [00:01<00:00, 252.57it/s]\n",
            "accuracy: 0.7878, loss: 1.1143 ||: 100%|██████████| 12/12 [00:00<00:00, 461.36it/s]\n",
            "accuracy: 0.8442, loss: 0.6384 ||: 100%|██████████| 281/281 [00:01<00:00, 253.62it/s]\n",
            "accuracy: 0.7878, loss: 1.0874 ||: 100%|██████████| 12/12 [00:00<00:00, 469.76it/s]\n",
            "accuracy: 0.8442, loss: 0.6120 ||: 100%|██████████| 281/281 [00:01<00:00, 249.52it/s]\n",
            "accuracy: 0.7878, loss: 1.0386 ||: 100%|██████████| 12/12 [00:00<00:00, 482.36it/s]\n",
            "accuracy: 0.8442, loss: 0.5772 ||: 100%|██████████| 281/281 [00:01<00:00, 252.60it/s]\n",
            "accuracy: 0.7878, loss: 0.9669 ||: 100%|██████████| 12/12 [00:00<00:00, 435.67it/s]\n",
            "accuracy: 0.8461, loss: 0.5389 ||: 100%|██████████| 281/281 [00:01<00:00, 251.97it/s]\n",
            "accuracy: 0.7878, loss: 0.9194 ||: 100%|██████████| 12/12 [00:00<00:00, 398.39it/s]\n",
            "accuracy: 0.8561, loss: 0.5005 ||: 100%|██████████| 281/281 [00:01<00:00, 249.52it/s]\n",
            "accuracy: 0.7878, loss: 0.8867 ||: 100%|██████████| 12/12 [00:00<00:00, 474.00it/s]\n",
            "accuracy: 0.8591, loss: 0.4696 ||: 100%|██████████| 281/281 [00:01<00:00, 241.99it/s]\n",
            "accuracy: 0.7878, loss: 0.8184 ||: 100%|██████████| 12/12 [00:00<00:00, 459.48it/s]\n",
            "accuracy: 0.8604, loss: 0.4473 ||: 100%|██████████| 281/281 [00:01<00:00, 247.63it/s]\n",
            "accuracy: 0.7939, loss: 0.8005 ||: 100%|██████████| 12/12 [00:00<00:00, 461.36it/s]\n",
            "accuracy: 0.8613, loss: 0.4307 ||: 100%|██████████| 281/281 [00:01<00:00, 248.44it/s]\n",
            "accuracy: 0.7939, loss: 0.7748 ||: 100%|██████████| 12/12 [00:00<00:00, 466.78it/s]\n",
            "accuracy: 0.8626, loss: 0.4171 ||: 100%|██████████| 281/281 [00:01<00:00, 250.15it/s]\n",
            "accuracy: 0.7939, loss: 0.8081 ||: 100%|██████████| 12/12 [00:00<00:00, 459.03it/s]\n",
            "accuracy: 0.8622, loss: 0.4068 ||: 100%|██████████| 281/281 [00:01<00:00, 253.74it/s]\n",
            "accuracy: 0.7939, loss: 0.7521 ||: 100%|██████████| 12/12 [00:00<00:00, 475.80it/s]\n",
            "accuracy: 0.8624, loss: 0.3986 ||: 100%|██████████| 281/281 [00:01<00:00, 249.36it/s]\n",
            "accuracy: 0.7918, loss: 0.7674 ||: 100%|██████████| 12/12 [00:00<00:00, 464.55it/s]\n",
            "accuracy: 0.8635, loss: 0.3913 ||: 100%|██████████| 281/281 [00:01<00:00, 252.53it/s]\n",
            "accuracy: 0.7939, loss: 0.7332 ||: 100%|██████████| 12/12 [00:00<00:00, 464.27it/s]\n",
            "accuracy: 0.8642, loss: 0.3850 ||: 100%|██████████| 281/281 [00:01<00:00, 252.93it/s]\n",
            "accuracy: 0.7939, loss: 0.7125 ||: 100%|██████████| 12/12 [00:00<00:00, 439.69it/s]\n",
            "accuracy: 0.8644, loss: 0.3799 ||: 100%|██████████| 281/281 [00:01<00:00, 249.57it/s]\n",
            "accuracy: 0.7939, loss: 0.7117 ||: 100%|██████████| 12/12 [00:00<00:00, 461.72it/s]\n",
            "accuracy: 0.8648, loss: 0.3783 ||: 100%|██████████| 281/281 [00:01<00:00, 249.28it/s]\n",
            "accuracy: 0.7939, loss: 0.7118 ||: 100%|██████████| 12/12 [00:00<00:00, 413.27it/s]\n",
            "accuracy: 0.8654, loss: 0.3735 ||: 100%|██████████| 281/281 [00:01<00:00, 254.12it/s]\n",
            "accuracy: 0.7939, loss: 0.7384 ||: 100%|██████████| 12/12 [00:00<00:00, 477.41it/s]\n",
            "accuracy: 0.8662, loss: 0.3714 ||: 100%|██████████| 281/281 [00:01<00:00, 252.15it/s]\n",
            "accuracy: 0.7959, loss: 0.7058 ||: 100%|██████████| 12/12 [00:00<00:00, 408.75it/s]\n",
            "accuracy: 0.8665, loss: 0.3679 ||: 100%|██████████| 281/281 [00:01<00:00, 254.07it/s]\n",
            "accuracy: 0.8020, loss: 0.6879 ||: 100%|██████████| 12/12 [00:00<00:00, 461.42it/s]\n",
            "accuracy: 0.8701, loss: 0.3605 ||: 100%|██████████| 281/281 [00:01<00:00, 251.28it/s]\n",
            "accuracy: 0.7939, loss: 0.7070 ||: 100%|██████████| 12/12 [00:00<00:00, 417.06it/s]\n",
            "accuracy: 0.8702, loss: 0.3597 ||: 100%|██████████| 281/281 [00:01<00:00, 250.99it/s]\n",
            "accuracy: 0.8041, loss: 0.6789 ||: 100%|██████████| 12/12 [00:00<00:00, 447.57it/s]\n",
            "accuracy: 0.8710, loss: 0.3550 ||: 100%|██████████| 281/281 [00:01<00:00, 248.52it/s]\n",
            "accuracy: 0.8102, loss: 0.6704 ||: 100%|██████████| 12/12 [00:00<00:00, 469.90it/s]\n",
            "accuracy: 0.8750, loss: 0.3517 ||: 100%|██████████| 281/281 [00:01<00:00, 254.62it/s]\n",
            "accuracy: 0.7980, loss: 0.6798 ||: 100%|██████████| 12/12 [00:00<00:00, 461.74it/s]\n",
            "accuracy: 0.8731, loss: 0.3486 ||: 100%|██████████| 281/281 [00:01<00:00, 255.00it/s]\n",
            "accuracy: 0.7980, loss: 0.6856 ||: 100%|██████████| 12/12 [00:00<00:00, 460.87it/s]\n",
            "accuracy: 0.8741, loss: 0.3430 ||: 100%|██████████| 281/281 [00:01<00:00, 252.62it/s]\n",
            "accuracy: 0.8020, loss: 0.6599 ||: 100%|██████████| 12/12 [00:00<00:00, 471.11it/s]\n",
            "accuracy: 0.8751, loss: 0.3411 ||: 100%|██████████| 281/281 [00:01<00:00, 252.52it/s]\n",
            "accuracy: 0.8041, loss: 0.6759 ||: 100%|██████████| 12/12 [00:00<00:00, 431.57it/s]\n",
            "accuracy: 0.8774, loss: 0.3404 ||: 100%|██████████| 281/281 [00:01<00:00, 252.03it/s]\n",
            "accuracy: 0.8082, loss: 0.6424 ||: 100%|██████████| 12/12 [00:00<00:00, 476.26it/s]\n",
            "accuracy: 0.8758, loss: 0.3371 ||: 100%|██████████| 281/281 [00:01<00:00, 250.89it/s]\n",
            "accuracy: 0.8184, loss: 0.6457 ||: 100%|██████████| 12/12 [00:00<00:00, 456.81it/s]\n",
            "accuracy: 0.8788, loss: 0.3331 ||: 100%|██████████| 281/281 [00:01<00:00, 249.97it/s]\n",
            "accuracy: 0.8122, loss: 0.6441 ||: 100%|██████████| 12/12 [00:00<00:00, 466.86it/s]\n",
            "accuracy: 0.8788, loss: 0.3303 ||: 100%|██████████| 281/281 [00:01<00:00, 247.45it/s]\n",
            "accuracy: 0.8204, loss: 0.6390 ||: 100%|██████████| 12/12 [00:00<00:00, 447.15it/s]\n",
            "accuracy: 0.8798, loss: 0.3267 ||: 100%|██████████| 281/281 [00:01<00:00, 250.46it/s]\n",
            "accuracy: 0.8184, loss: 0.6781 ||: 100%|██████████| 12/12 [00:00<00:00, 400.50it/s]\n",
            "accuracy: 0.8817, loss: 0.3269 ||: 100%|██████████| 281/281 [00:01<00:00, 251.37it/s]\n",
            "accuracy: 0.8224, loss: 0.6396 ||: 100%|██████████| 12/12 [00:00<00:00, 332.17it/s]\n",
            "accuracy: 0.8812, loss: 0.3220 ||: 100%|██████████| 281/281 [00:01<00:00, 244.71it/s]\n",
            "accuracy: 0.8265, loss: 0.6382 ||: 100%|██████████| 12/12 [00:00<00:00, 470.31it/s]\n",
            "accuracy: 0.8827, loss: 0.3222 ||: 100%|██████████| 281/281 [00:01<00:00, 242.84it/s]\n",
            "accuracy: 0.8388, loss: 0.6245 ||: 100%|██████████| 12/12 [00:00<00:00, 442.11it/s]\n",
            "accuracy: 0.8856, loss: 0.3166 ||: 100%|██████████| 281/281 [00:01<00:00, 248.55it/s]\n",
            "accuracy: 0.8286, loss: 0.6145 ||: 100%|██████████| 12/12 [00:00<00:00, 435.41it/s]\n",
            "accuracy: 0.8871, loss: 0.3158 ||: 100%|██████████| 281/281 [00:01<00:00, 252.48it/s]\n",
            "accuracy: 0.8388, loss: 0.6057 ||: 100%|██████████| 12/12 [00:00<00:00, 438.78it/s]\n",
            "accuracy: 0.8852, loss: 0.3154 ||: 100%|██████████| 281/281 [00:01<00:00, 250.99it/s]\n",
            "accuracy: 0.8184, loss: 0.6628 ||: 100%|██████████| 12/12 [00:00<00:00, 428.96it/s]\n",
            "accuracy: 0.8873, loss: 0.3131 ||: 100%|██████████| 281/281 [00:01<00:00, 249.54it/s]\n",
            "accuracy: 0.8367, loss: 0.5989 ||: 100%|██████████| 12/12 [00:00<00:00, 371.65it/s]\n",
            "accuracy: 0.8896, loss: 0.3108 ||: 100%|██████████| 281/281 [00:01<00:00, 252.16it/s]\n",
            "accuracy: 0.8388, loss: 0.6023 ||: 100%|██████████| 12/12 [00:00<00:00, 424.09it/s]\n",
            "accuracy: 0.8912, loss: 0.3088 ||: 100%|██████████| 281/281 [00:01<00:00, 246.22it/s]\n",
            "accuracy: 0.8449, loss: 0.5971 ||: 100%|██████████| 12/12 [00:00<00:00, 417.73it/s]\n",
            "accuracy: 0.8921, loss: 0.3055 ||: 100%|██████████| 281/281 [00:01<00:00, 251.01it/s]\n",
            "accuracy: 0.8388, loss: 0.6122 ||: 100%|██████████| 12/12 [00:00<00:00, 419.68it/s]\n",
            "accuracy: 0.8933, loss: 0.3027 ||: 100%|██████████| 281/281 [00:01<00:00, 254.28it/s]\n",
            "accuracy: 0.8367, loss: 0.5984 ||: 100%|██████████| 12/12 [00:00<00:00, 447.89it/s]\n",
            "accuracy: 0.8948, loss: 0.3000 ||: 100%|██████████| 281/281 [00:01<00:00, 247.92it/s]\n",
            "accuracy: 0.8429, loss: 0.5881 ||: 100%|██████████| 12/12 [00:00<00:00, 424.42it/s]\n",
            "accuracy: 0.8949, loss: 0.2979 ||: 100%|██████████| 281/281 [00:01<00:00, 248.77it/s]\n",
            "accuracy: 0.8469, loss: 0.5895 ||: 100%|██████████| 12/12 [00:00<00:00, 436.33it/s]\n",
            "accuracy: 0.8943, loss: 0.2969 ||: 100%|██████████| 281/281 [00:01<00:00, 254.35it/s]\n",
            "accuracy: 0.8306, loss: 0.5773 ||: 100%|██████████| 12/12 [00:00<00:00, 451.15it/s]\n",
            "accuracy: 0.8945, loss: 0.2975 ||: 100%|██████████| 281/281 [00:01<00:00, 251.12it/s]\n",
            "accuracy: 0.8510, loss: 0.5681 ||: 100%|██████████| 12/12 [00:00<00:00, 401.20it/s]\n",
            "accuracy: 0.8956, loss: 0.2920 ||: 100%|██████████| 281/281 [00:01<00:00, 254.03it/s]\n",
            "accuracy: 0.8531, loss: 0.5674 ||: 100%|██████████| 12/12 [00:00<00:00, 475.33it/s]\n",
            "accuracy: 0.8955, loss: 0.2898 ||: 100%|██████████| 281/281 [00:01<00:00, 248.20it/s]\n",
            "accuracy: 0.8531, loss: 0.5538 ||: 100%|██████████| 12/12 [00:00<00:00, 444.76it/s]\n",
            "accuracy: 0.8965, loss: 0.2869 ||: 100%|██████████| 281/281 [00:01<00:00, 248.49it/s]\n",
            "accuracy: 0.8429, loss: 0.5931 ||: 100%|██████████| 12/12 [00:00<00:00, 445.13it/s]\n",
            "accuracy: 0.8973, loss: 0.2862 ||: 100%|██████████| 281/281 [00:01<00:00, 244.78it/s]\n",
            "accuracy: 0.8490, loss: 0.5413 ||: 100%|██████████| 12/12 [00:00<00:00, 449.15it/s]\n",
            "accuracy: 0.8977, loss: 0.2838 ||: 100%|██████████| 281/281 [00:01<00:00, 241.60it/s]\n",
            "accuracy: 0.8490, loss: 0.5478 ||: 100%|██████████| 12/12 [00:00<00:00, 438.17it/s]\n",
            "accuracy: 0.8992, loss: 0.2823 ||: 100%|██████████| 281/281 [00:01<00:00, 244.42it/s]\n",
            "accuracy: 0.8551, loss: 0.5436 ||: 100%|██████████| 12/12 [00:00<00:00, 437.82it/s]\n",
            "accuracy: 0.9020, loss: 0.2787 ||: 100%|██████████| 281/281 [00:01<00:00, 243.70it/s]\n",
            "accuracy: 0.8551, loss: 0.5471 ||: 100%|██████████| 12/12 [00:00<00:00, 452.81it/s]\n",
            "accuracy: 0.9028, loss: 0.2762 ||: 100%|██████████| 281/281 [00:01<00:00, 244.66it/s]\n",
            "accuracy: 0.8592, loss: 0.5447 ||: 100%|██████████| 12/12 [00:00<00:00, 449.52it/s]\n",
            "accuracy: 0.9036, loss: 0.2738 ||: 100%|██████████| 281/281 [00:01<00:00, 248.95it/s]\n",
            "accuracy: 0.8551, loss: 0.5285 ||: 100%|██████████| 12/12 [00:00<00:00, 453.75it/s]\n",
            "accuracy: 0.9044, loss: 0.2718 ||: 100%|██████████| 281/281 [00:01<00:00, 242.69it/s]\n",
            "accuracy: 0.8571, loss: 0.5306 ||: 100%|██████████| 12/12 [00:00<00:00, 468.72it/s]\n",
            "accuracy: 0.9050, loss: 0.2681 ||: 100%|██████████| 281/281 [00:01<00:00, 251.23it/s]\n",
            "accuracy: 0.8612, loss: 0.5166 ||: 100%|██████████| 12/12 [00:00<00:00, 468.77it/s]\n",
            "accuracy: 0.9049, loss: 0.2664 ||: 100%|██████████| 281/281 [00:01<00:00, 250.23it/s]\n",
            "accuracy: 0.8571, loss: 0.5117 ||: 100%|██████████| 12/12 [00:00<00:00, 473.70it/s]\n",
            "accuracy: 0.9049, loss: 0.2629 ||: 100%|██████████| 281/281 [00:01<00:00, 247.18it/s]\n",
            "accuracy: 0.8571, loss: 0.5082 ||: 100%|██████████| 12/12 [00:00<00:00, 432.89it/s]\n",
            "accuracy: 0.9067, loss: 0.2592 ||: 100%|██████████| 281/281 [00:01<00:00, 248.91it/s]\n",
            "accuracy: 0.8531, loss: 0.5034 ||: 100%|██████████| 12/12 [00:00<00:00, 440.87it/s]\n",
            "accuracy: 0.9091, loss: 0.2576 ||: 100%|██████████| 281/281 [00:01<00:00, 248.00it/s]\n",
            "accuracy: 0.8592, loss: 0.5091 ||: 100%|██████████| 12/12 [00:00<00:00, 429.96it/s]\n",
            "accuracy: 0.9071, loss: 0.2562 ||: 100%|██████████| 281/281 [00:01<00:00, 251.22it/s]\n",
            "accuracy: 0.8592, loss: 0.4913 ||: 100%|██████████| 12/12 [00:00<00:00, 485.02it/s]\n",
            "accuracy: 0.9080, loss: 0.2543 ||: 100%|██████████| 281/281 [00:01<00:00, 249.14it/s]\n",
            "accuracy: 0.8592, loss: 0.4968 ||: 100%|██████████| 12/12 [00:00<00:00, 465.62it/s]\n",
            "accuracy: 0.9103, loss: 0.2523 ||: 100%|██████████| 281/281 [00:01<00:00, 246.32it/s]\n",
            "accuracy: 0.8633, loss: 0.4918 ||: 100%|██████████| 12/12 [00:00<00:00, 332.24it/s]\n",
            "accuracy: 0.9130, loss: 0.2486 ||: 100%|██████████| 281/281 [00:01<00:00, 247.31it/s]\n",
            "accuracy: 0.8673, loss: 0.4921 ||: 100%|██████████| 12/12 [00:00<00:00, 463.48it/s]\n",
            "accuracy: 0.9138, loss: 0.2461 ||: 100%|██████████| 281/281 [00:01<00:00, 248.56it/s]\n",
            "accuracy: 0.8633, loss: 0.4833 ||: 100%|██████████| 12/12 [00:00<00:00, 457.11it/s]\n",
            "accuracy: 0.9112, loss: 0.2450 ||: 100%|██████████| 281/281 [00:01<00:00, 249.73it/s]\n",
            "accuracy: 0.8612, loss: 0.4809 ||: 100%|██████████| 12/12 [00:00<00:00, 459.42it/s]\n",
            "accuracy: 0.9137, loss: 0.2420 ||: 100%|██████████| 281/281 [00:01<00:00, 249.35it/s]\n",
            "accuracy: 0.8673, loss: 0.4664 ||: 100%|██████████| 12/12 [00:00<00:00, 461.83it/s]\n",
            "accuracy: 0.9155, loss: 0.2395 ||: 100%|██████████| 281/281 [00:01<00:00, 248.51it/s]\n",
            "accuracy: 0.8714, loss: 0.4801 ||: 100%|██████████| 12/12 [00:00<00:00, 456.22it/s]\n",
            "accuracy: 0.9156, loss: 0.2380 ||: 100%|██████████| 281/281 [00:01<00:00, 249.76it/s]\n",
            "accuracy: 0.8653, loss: 0.4793 ||: 100%|██████████| 12/12 [00:00<00:00, 482.54it/s]\n",
            "accuracy: 0.9164, loss: 0.2365 ||: 100%|██████████| 281/281 [00:01<00:00, 249.98it/s]\n",
            "accuracy: 0.8673, loss: 0.4638 ||: 100%|██████████| 12/12 [00:00<00:00, 465.42it/s]\n",
            "accuracy: 0.9160, loss: 0.2353 ||: 100%|██████████| 281/281 [00:01<00:00, 248.73it/s]\n",
            "accuracy: 0.8653, loss: 0.4601 ||: 100%|██████████| 12/12 [00:00<00:00, 457.75it/s]\n",
            "accuracy: 0.9184, loss: 0.2315 ||: 100%|██████████| 281/281 [00:01<00:00, 248.05it/s]\n",
            "accuracy: 0.8673, loss: 0.4572 ||: 100%|██████████| 12/12 [00:00<00:00, 448.43it/s]\n",
            "accuracy: 0.9174, loss: 0.2305 ||: 100%|██████████| 281/281 [00:01<00:00, 248.12it/s]\n",
            "accuracy: 0.8673, loss: 0.4570 ||: 100%|██████████| 12/12 [00:00<00:00, 461.78it/s]\n",
            "accuracy: 0.9193, loss: 0.2281 ||: 100%|██████████| 281/281 [00:01<00:00, 243.49it/s]\n",
            "accuracy: 0.8673, loss: 0.4456 ||: 100%|██████████| 12/12 [00:00<00:00, 411.49it/s]\n",
            "accuracy: 0.9172, loss: 0.2257 ||: 100%|██████████| 281/281 [00:01<00:00, 251.43it/s]\n",
            "accuracy: 0.8714, loss: 0.4506 ||: 100%|██████████| 12/12 [00:00<00:00, 479.58it/s]\n",
            "accuracy: 0.9190, loss: 0.2248 ||: 100%|██████████| 281/281 [00:01<00:00, 247.52it/s]\n",
            "accuracy: 0.8755, loss: 0.4365 ||: 100%|██████████| 12/12 [00:00<00:00, 442.03it/s]\n",
            "accuracy: 0.9190, loss: 0.2235 ||: 100%|██████████| 281/281 [00:01<00:00, 249.67it/s]\n",
            "accuracy: 0.8714, loss: 0.4490 ||: 100%|██████████| 12/12 [00:00<00:00, 432.82it/s]\n",
            "accuracy: 0.9210, loss: 0.2203 ||: 100%|██████████| 281/281 [00:01<00:00, 247.80it/s]\n",
            "accuracy: 0.8735, loss: 0.4405 ||: 100%|██████████| 12/12 [00:00<00:00, 478.55it/s]\n",
            "accuracy: 0.9205, loss: 0.2197 ||: 100%|██████████| 281/281 [00:01<00:00, 244.79it/s]\n",
            "accuracy: 0.8694, loss: 0.4311 ||: 100%|██████████| 12/12 [00:00<00:00, 374.91it/s]\n",
            "accuracy: 0.9196, loss: 0.2179 ||: 100%|██████████| 281/281 [00:01<00:00, 254.62it/s]\n",
            "accuracy: 0.8694, loss: 0.4513 ||: 100%|██████████| 12/12 [00:00<00:00, 454.04it/s]\n",
            "accuracy: 0.9203, loss: 0.2175 ||: 100%|██████████| 281/281 [00:01<00:00, 255.73it/s]\n",
            "accuracy: 0.8755, loss: 0.4134 ||: 100%|██████████| 12/12 [00:00<00:00, 459.75it/s]\n",
            "accuracy: 0.9203, loss: 0.2148 ||: 100%|██████████| 281/281 [00:01<00:00, 246.94it/s]\n",
            "accuracy: 0.8755, loss: 0.4340 ||: 100%|██████████| 12/12 [00:00<00:00, 457.35it/s]\n",
            "accuracy: 0.9217, loss: 0.2122 ||: 100%|██████████| 281/281 [00:01<00:00, 246.97it/s]\n",
            "accuracy: 0.8735, loss: 0.4249 ||: 100%|██████████| 12/12 [00:00<00:00, 469.69it/s]\n",
            "accuracy: 0.9208, loss: 0.2115 ||: 100%|██████████| 281/281 [00:01<00:00, 249.22it/s]\n",
            "accuracy: 0.8755, loss: 0.4192 ||: 100%|██████████| 12/12 [00:00<00:00, 462.47it/s]\n",
            "accuracy: 0.9211, loss: 0.2107 ||: 100%|██████████| 281/281 [00:01<00:00, 236.54it/s]\n",
            "accuracy: 0.8755, loss: 0.4122 ||: 100%|██████████| 12/12 [00:00<00:00, 446.82it/s]\n",
            "accuracy: 0.9235, loss: 0.2084 ||: 100%|██████████| 281/281 [00:01<00:00, 243.55it/s]\n",
            "accuracy: 0.8755, loss: 0.4033 ||: 100%|██████████| 12/12 [00:00<00:00, 452.83it/s]\n",
            "accuracy: 0.9217, loss: 0.2068 ||: 100%|██████████| 281/281 [00:01<00:00, 246.08it/s]\n",
            "accuracy: 0.8776, loss: 0.4106 ||: 100%|██████████| 12/12 [00:00<00:00, 441.06it/s]\n",
            "accuracy: 0.9224, loss: 0.2035 ||: 100%|██████████| 281/281 [00:01<00:00, 242.41it/s]\n",
            "accuracy: 0.8776, loss: 0.3989 ||: 100%|██████████| 12/12 [00:00<00:00, 458.03it/s]\n",
            "accuracy: 0.9232, loss: 0.2062 ||: 100%|██████████| 281/281 [00:01<00:00, 245.01it/s]\n",
            "accuracy: 0.8755, loss: 0.4030 ||: 100%|██████████| 12/12 [00:00<00:00, 454.17it/s]\n",
            "accuracy: 0.9231, loss: 0.2008 ||: 100%|██████████| 281/281 [00:01<00:00, 249.71it/s]\n",
            "accuracy: 0.8755, loss: 0.3982 ||: 100%|██████████| 12/12 [00:00<00:00, 464.06it/s]\n",
            "accuracy: 0.9227, loss: 0.2021 ||: 100%|██████████| 281/281 [00:01<00:00, 251.87it/s]\n",
            "accuracy: 0.8837, loss: 0.3824 ||: 100%|██████████| 12/12 [00:00<00:00, 454.05it/s]\n"
          ],
          "name": "stderr"
        },
        {
          "output_type": "execute_result",
          "data": {
            "text/plain": [
              "{'best_epoch': 99,\n",
              " 'best_validation_accuracy': 0.8836734693877552,\n",
              " 'best_validation_loss': 0.382393110737515,\n",
              " 'epoch': 99,\n",
              " 'peak_cpu_memory_MB': 2799.88,\n",
              " 'peak_gpu_0_memory_MB': 541,\n",
              " 'training_accuracy': 0.9226776824488931,\n",
              " 'training_cpu_memory_MB': 2799.88,\n",
              " 'training_duration': '0:02:01.403297',\n",
              " 'training_epochs': 99,\n",
              " 'training_gpu_0_memory_MB': 541,\n",
              " 'training_loss': 0.2021263821864189,\n",
              " 'training_start_epoch': 0,\n",
              " 'validation_accuracy': 0.8836734693877552,\n",
              " 'validation_loss': 0.382393110737515}"
            ]
          },
          "metadata": {
            "tags": []
          },
          "execution_count": 5
        }
      ]
    },
    {
      "cell_type": "markdown",
      "metadata": {
        "id": "mwN6ctqVV0tf",
        "colab_type": "text"
      },
      "source": [
        "## Evaluation"
      ]
    },
    {
      "cell_type": "markdown",
      "metadata": {
        "id": "qkDs_UdIeuFz",
        "colab_type": "text"
      },
      "source": [
        "The simple code below creators a `predictor` object that applies the model to an input example and then loops over the examples in the validation set, printing out the input token, gold-standard output, and model output. You can see from these methods how to access data and model outputs for evaluation."
      ]
    },
    {
      "cell_type": "code",
      "metadata": {
        "id": "S0bE4fmLik08",
        "colab_type": "code",
        "colab": {}
      },
      "source": [
        "predictor = SentenceTaggerPredictor(model, dataset_reader=reader)\n",
        "\n",
        "def tag_sentence(s):\n",
        "  tag_ids = np.argmax(predictor.predict_instance(s)['tag_logits'], axis=-1)\n",
        "  a.append(predictor.predict_instance(s)['tag_logits'])\n",
        "  fields = zip(s['tokens'], s['tags'], [model.vocab.get_token_from_index(i, 'labels') for i in tag_ids])\n",
        "  return list(fields)\n",
        "\n",
        "a = []\n",
        "baseline_output= [tag_sentence(i) for i in validation_dataset]"
      ],
      "execution_count": 0,
      "outputs": []
    },
    {
      "cell_type": "markdown",
      "metadata": {
        "id": "BpYMx7RVfCyT",
        "colab_type": "text"
      },
      "source": [
        "Now, you can implement two evaluation functions: `violations` and `span_stats`."
      ]
    },
    {
      "cell_type": "code",
      "metadata": {
        "id": "vDZOVdaDLTNy",
        "colab_type": "code",
        "colab": {}
      },
      "source": [
        "def compare_violations(tag1, tag2):\n",
        "    \n",
        "    if tag1[0] == 'B' and tag2[0] == 'I':\n",
        "        if tag1[2:] == tag2[2:]:\n",
        "            return 0\n",
        "        else:\n",
        "            return 1\n",
        "    if tag1[0] == 'I' and tag2[0] == 'I':\n",
        "        if tag1[2:] == tag2[2:]:\n",
        "            return 0\n",
        "        else:\n",
        "            return 1\n",
        "    if tag1[0] == 'I' and tag2[0] == 'B':\n",
        "        return 0\n",
        "    if tag1[0] == 'B' and tag2[0] == 'B':\n",
        "        return 0\n",
        "    else:\n",
        "        return 0"
      ],
      "execution_count": 0,
      "outputs": []
    },
    {
      "cell_type": "code",
      "metadata": {
        "id": "P042A2Ofg3wa",
        "colab_type": "code",
        "outputId": "dcd0aba9-d655-492e-e9a9-3879608d6ffd",
        "colab": {
          "base_uri": "https://localhost:8080/",
          "height": 102
        }
      },
      "source": [
        "# TODO: count the number of NER label violations\n",
        "# such as O followed by I-TYPE or B-TYPE followed by\n",
        "# I-OTHER_TYPE\n",
        "# Take tagger output as input\n",
        "\n",
        "def violations(tagged):\n",
        "    count = 0\n",
        "    violations = []\n",
        "    for i in range(0, len(tagged)):\n",
        "        for j in range(0, len(tagged[i])):\n",
        "            violations.append(tagged[i][j][2])\n",
        "    i = 0\n",
        "    j = 1\n",
        "    while i < len(violations) - 1:\n",
        "        while j < len(violations):\n",
        "            if violations[i] == 'O':\n",
        "                if (violations[j][0] == 'I'):\n",
        "                    count = count + 1\n",
        "            else:\n",
        "                if (compare_violations(violations[i], violations[j])) == 1:\n",
        "                    count = count + 1\n",
        "            i = i + 1\n",
        "            j = j + 1\n",
        "    return count\n",
        "\n",
        "# TODO: return the span-level precision, recall, and F1\n",
        "# Take tagger output as input\n",
        "def span_stats(tagged):\n",
        "  \n",
        "  gold = []\n",
        "  pred = []\n",
        "  name = []\n",
        "  for i in range(0,len(tagged)):\n",
        "    temp_gold = []\n",
        "    temp_pred = []\n",
        "    temp_name = []\n",
        "    for j in range(0,len(tagged[i])):\n",
        "      temp_gold.append(tagged[i][j][1])\n",
        "      temp_pred.append(tagged[i][j][2])\n",
        "      temp_name.append(tagged[i][j][0])\n",
        "\n",
        "    gold.append(temp_gold)\n",
        "    pred.append(temp_pred)\n",
        "    name.append(temp_name)\n",
        "    precision = precision_score(gold, pred)\n",
        "    recall = recall_score(gold, pred)\n",
        "    f1 = 2 * (precision * recall) / (precision + recall)\n",
        "\n",
        "  return {'precision': precision,\n",
        "          'recall': recall,\n",
        "          'f1': f1}\n",
        "\n",
        "## You can check how many violations are made by the model output in predictor.\n",
        "print(\"The model output in Predictor :\")\n",
        "print(\"Violations ~\")\n",
        "print(violations(baseline_output))\n",
        "print(\"Span Statistics ~\")\n",
        "print(span_stats(baseline_output))"
      ],
      "execution_count": 8,
      "outputs": [
        {
          "output_type": "stream",
          "text": [
            "The model output in Predictor :\n",
            "Violations ~\n",
            "33\n",
            "Span Statistics ~\n",
            "{'precision': 0.171875, 'recall': 0.2558139534883721, 'f1': 0.205607476635514}\n"
          ],
          "name": "stdout"
        }
      ]
    },
    {
      "cell_type": "markdown",
      "metadata": {
        "id": "fX7-quD2hnzB",
        "colab_type": "text"
      },
      "source": [
        "## Decoding"
      ]
    },
    {
      "cell_type": "markdown",
      "metadata": {
        "id": "WCgW9d9ohsGv",
        "colab_type": "text"
      },
      "source": [
        "Now you can finally implement the simple Viterbi decoder. The `predictor` object, when applied to an input sentence, first calculates the scores for each possible output tag for each token. See the line `predictor.predict_instance(i)['tag_logits']` in the code above.\n",
        "\n",
        "Then, you will construct a transition matrix. You can use the code below to get a list of the tags the model knows about. For a set of K tags, construct a K-by-K matrix with a log(1)=0 when a transition between a given tag pair is valid and a log(0)=-infinity otherwise.\n",
        "\n",
        "Finally, implement a Viterbi decoder that takes the predictor object and a dataset object and outputs tagged data, just like the `tag_sentence` function above. It should use the Viterbi algorithm with the (max, plus) semiring. You'll be working with sums of log probabilities instead of products of probabilties.\n",
        "\n",
        "Run your `violations` function on the output of this decoder to make sure that there are no invalid tag transitions. Also, compare the span-level metrics on `baseline_output` and your new output using your `span_stats` function."
      ]
    },
    {
      "cell_type": "code",
      "metadata": {
        "id": "nlP8vZhiS68K",
        "colab_type": "code",
        "outputId": "6561582e-4ede-4ddf-ecab-6bb3e9371252",
        "colab": {
          "base_uri": "https://localhost:8080/",
          "height": 54
        }
      },
      "source": [
        "# This code show how to map from output vector components to labels\n",
        "vocabulary = vocab.get_index_to_token_vocabulary('labels')\n",
        "print(vocabulary)"
      ],
      "execution_count": 9,
      "outputs": [
        {
          "output_type": "stream",
          "text": [
            "{0: 'O', 1: 'B-GPE', 2: 'I-ORG', 3: 'I-DATE', 4: 'B-CARDINAL', 5: 'I-EVENT', 6: 'B-PERSON', 7: 'B-NORP', 8: 'B-DATE', 9: 'B-ORG', 10: 'B-LOC', 11: 'I-LOC', 12: 'I-FAC', 13: 'I-PERSON', 14: 'I-GPE', 15: 'I-CARDINAL', 16: 'B-EVENT', 17: 'I-TIME', 18: 'I-WORK_OF_ART', 19: 'B-ORDINAL', 20: 'B-FAC', 21: 'B-TIME', 22: 'I-LAW', 23: 'I-QUANTITY', 24: 'I-NORP', 25: 'I-MONEY', 26: 'B-MONEY', 27: 'B-WORK_OF_ART', 28: 'B-QUANTITY', 29: 'B-LAW', 30: 'B-PRODUCT', 31: 'I-PRODUCT', 32: 'B-PERCENT', 33: 'I-PERCENT'}\n"
          ],
          "name": "stdout"
        }
      ]
    },
    {
      "cell_type": "code",
      "metadata": {
        "id": "XkNFBIOR5CEP",
        "colab_type": "code",
        "colab": {
          "base_uri": "https://localhost:8080/",
          "height": 85
        },
        "outputId": "d87fbd8d-0e78-48d3-ad4c-cb78080136d4"
      },
      "source": [
        "# The transition matrix M X M is created , M is of size vocab, here 34.\n",
        "# The log(0/1) values are assigned based on the violations we discussed above.\n",
        "vocab_size = len(vocabulary)\n",
        "kxkmatrix = np.zeros((vocab_size, vocab_size))\n",
        "for i in range(0, vocab_size):\n",
        "  for j in range(0, vocab_size):\n",
        "    if(vocabulary[i] == 'O' and vocabulary[j] == 'O'):\n",
        "      kxkmatrix[i][j] = np.log(1)\n",
        "    elif vocabulary[i] == 'O':\n",
        "      if vocabulary[j][0] == 'I':\n",
        "        kxkmatrix[i][j] = np.log(0)\n",
        "      else:\n",
        "        kxkmatrix[i][j] = np.log(1)\n",
        "    else :\n",
        "      if (compare_violations(vocabulary[i], vocabulary[j]) == 1):\n",
        "        kxkmatrix[i][j] = np.log(0)\n",
        "      else:\n",
        "        kxkmatrix[i][j] = np.log(1)"
      ],
      "execution_count": 10,
      "outputs": [
        {
          "output_type": "stream",
          "text": [
            "/usr/local/lib/python3.6/dist-packages/ipykernel_launcher.py:9: RuntimeWarning: divide by zero encountered in log\n",
            "  if __name__ == '__main__':\n",
            "/usr/local/lib/python3.6/dist-packages/ipykernel_launcher.py:14: RuntimeWarning: divide by zero encountered in log\n",
            "  \n"
          ],
          "name": "stderr"
        }
      ]
    },
    {
      "cell_type": "code",
      "metadata": {
        "id": "SffHr1xbI4NN",
        "colab_type": "code",
        "colab": {}
      },
      "source": [
        "# We are using max,plus semininrg\n",
        "def viterbi(s):\n",
        "    emission = predictor.predict_instance(s)['tag_logits']\n",
        "    backpointers = np.zeros((len(emission) - 1, vocab_size))\n",
        "    viterbi = emission\n",
        "    \n",
        "    for i in range(1, len(emission)):\n",
        "        for j in range(0, vocab_size):\n",
        "            kxkmatrix_max = np.max([kxkmatrix[k][j] + viterbi[i - 1][k] for k in range(vocab_size)])\n",
        "            viterbi[i][j] = emission[i][j] + kxkmatrix_max\n",
        "            backpointers[i - 1][j] = np.argmax([kxkmatrix[k][j] + viterbi[i - 1][k] for k in range(vocab_size)])\n",
        "\n",
        "    tag_ids = backtrack_path(viterbi, backpointers, emission)\n",
        "    fields_new = zip(s['tokens'], s['tags'], [model.vocab.get_token_from_index(i, 'labels') for i in tag_ids])\n",
        "    return list(fields_new)\n",
        "\n",
        "def backtrack_path(viterbi, backpointers, emission):\n",
        "    next_pointer = np.argmax([viterbi[len(emission) - 1][k] for k in range(vocab_size)])\n",
        "    tag_ids = np.zeros(len(emission))\n",
        "    tag_ids[len(emission) - 1] = next_pointer\n",
        "    i = len(emission) - 1\n",
        "    while i > -1:\n",
        "      #print(i)\n",
        "      i = i - 1\n",
        "      next_pointer = backpointers[i][int(next_pointer)]\n",
        "      tag_ids[i] = next_pointer\n",
        "    return tag_ids\n",
        "\n"
      ],
      "execution_count": 0,
      "outputs": []
    },
    {
      "cell_type": "code",
      "metadata": {
        "id": "e3C11mENJ_xM",
        "colab_type": "code",
        "colab": {
          "base_uri": "https://localhost:8080/",
          "height": 102
        },
        "outputId": "17596c18-f001-49c7-8fea-bfbce18d7b3a"
      },
      "source": [
        "print(\"The model output in Viterbi Decoder :\")\n",
        "#viterbi_output = [viterbi(i, model, predictor, kxkmatrix) for i in validation_dataset]\n",
        "viterbi_output = [viterbi(i) for i in validation_dataset]\n",
        "print(\"Violations ~\")\n",
        "print(violations(viterbi_output))\n",
        "print(\"Span Statistics ~\")\n",
        "print(span_stats(viterbi_output))"
      ],
      "execution_count": 12,
      "outputs": [
        {
          "output_type": "stream",
          "text": [
            "The model output in Viterbi Decoder :\n",
            "Violations ~\n",
            "0\n",
            "Span Statistics ~\n",
            "{'precision': 0.32608695652173914, 'recall': 0.3488372093023256, 'f1': 0.33707865168539325}\n"
          ],
          "name": "stdout"
        }
      ]
    }
  ]
}